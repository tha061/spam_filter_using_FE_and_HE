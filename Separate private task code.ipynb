{
  "nbformat": 4,
  "nbformat_minor": 0,
  "metadata": {
    "colab": {
      "name": "LabelsOR.ipynb",
      "provenance": [],
      "collapsed_sections": []
    },
    "kernelspec": {
      "name": "python3",
      "display_name": "Python 3"
    }
  },
  "cells": [
    {
      "cell_type": "code",
      "metadata": {
        "id": "eg4zacEDlp1_",
        "colab": {
          "base_uri": "https://localhost:8080/"
        },
        "outputId": "03d7ec79-c0a9-4ecd-ec32-5d7f15b35c7b"
      },
      "source": [
        "import numpy as np\n",
        "import keras\n",
        "import matplotlib.pyplot as plt\n",
        "from sklearn.model_selection import train_test_split\n",
        "from tensorflow.keras.models import Sequential\n",
        "from tensorflow.keras.layers import Dense\n",
        "import sklearn\n",
        "words =['org', 'mail', 'list', 'mailman', 'wrote', 'code', 'listinfo', 'help', 'comment', 'perl'] \n",
        "\n",
        "#words5=['unlist', 'inspir', 'jgy71tu', 'wundercum', 'truealtern', 'faisal', 'emenzhaowork', 'ghetto', 'klau', 'hostag', 'leo', 'ladonna', 'phrkihdpzhro', 'erect', 'dailylanebox', 'unfortun', 'maj', 'sftsyn', 'firstchild', 'rich', 'english', 'outlier', 'null', 'larryk', 'dominion', 'krzlich', 'elm', 'algorithm', 'fingerprint', 'glht', 'serai', 'agentz', 'hekor', 'r23689', 'enclosur', 'medyadetay', 'lo', 'porticato', 'ykhxyd5eo6', 'qfrc9tzhp', 'timeserv', 'shift', 'af1rw', 'defin', 'speechless', 'frequenc', 'linker', '41am', 'dfd', 'coher', 'mahoney', 'stangl', 'mental', 'parenthesi', 'osvert', 'point', '2ndtw5', 'finest', 'molass', 'musician', 'setfsunixinfo', 'vegas777', 'accessmask', 'rooml', 'cart1er', 'tt', 'inform', 'tf3969726', 'informatica', 'zimmerman', 'kgglsf', 'songbird', 'hili', 'btbw', 'zotov', 'placea', 'enum', 'r23205', 'hyperop', 'mfa', 'bpuo', 'plg2', 'pobj', 'gillett', 'wife', 'moraga', 'eliqu', 'linear', 'lyndsey', 'probit', 'smew', 'fetcharticl', '201a', 'pti', 'anblick', 'model', 'ceremoni', 'ship', 'sanitycheck', 'syn']\n",
        "#words4=['theori', 'typofix', 'mvikyrtu', 'cattl', 'colin', 'mention', 'easyweb46x', 'qhlc6', 'snum', 'jaclyn', 'jle', 'jinghol', 'gcfqd', 'xtxp', 'adopt', 'chick', '1dk3v', 'abid', 'calendar', 'aceut', 'podcast', 'muse', 'snider', 'nenennuio', 'xkl5cm4q', 'marin', 'anexact', 'dunno', 'perlop', 'antelopehn', 'adderss', 'cabl', 'fiw', 'radiu', 'flycatch', 'popcorn', 'mein', 'proconsul', 'wagman', 'brutal', 'dieter', 'arg1', 'omm', 'nickelodeon', 'ntoim', 'pedantri', 'e58dshytk58bon', 'prozac', 'lmaster', 'infect', 'patterson', 'univ', '8a8fa6d', 'architectur', 'systemexit', 'weidlein', 'qeagsx44u', 'libmysql', 'presid', 'jeri', 'emrn', 'hisindiffer', '7dfkdsp', 'providenti', '1url', 'ragdtn', 'rejon', 'stesa', 'wjc', 'instant', 'blandli', 'bei', 'pmeagr', 'drastic', 'sss', 'kemal', 'deaf', 'rename2', 'mze5ntg4', 'rainbow', 'metabolismo', 'arv', 'parthian', 'shearer', 'minerva', 'cessat', 'gladexml', 'mje5', 'paribu', 'seu', 'worrk', 'uid', 'drugmart', 'chortl', '1fd1', 'serv', 'millic', '38bz0rxe2rk', 'bronchiol', 'libctdb']\n",
        "#words3=['mailcarrick', 'pater', 'melbourn', 'chat', 'yergler', 'apgitest', 'a10808131', 'lunch', 'madrid', 'upcommon', 'pmc2cutil', 'zesti', 'ct', 'leafweight', 'preposit', '3fwyxp', 'almatir', 'socserv', 'lezec', 'ir2p', 'interop', 'nal', 'lercher', 'sept', 'secular', 'blight', 'ixxv', 'nonblock', 'r19058', 'mdash', 'r19551', 'miltinho', 'uahernad', 'visitor', 'sigtstp', '00am', 'carelessli', 'fatto', 'ufkvxz', 'vaz', 'finkelstein', 'paperwork', 'ktiff', 'dren', 'minumum', 'titom', '2e45', 'sn', 'bondyield', 'vowelhop', 'hodjo2a', 'liftuphighfal', 'silveri', 'r22140', 'wqaivwz', 'passag', 'erpabc', 'syncretaassoc', '32w', 'investor', 'nowsh', 'beautynew', 'value2', 'thornal', 'readbin', 'byzantin', 'tfno', 'daren', 'pobega', 'sunscreen', 'n00b', 'ize', 'larg', 'kkyqi', 'bigmoney', 'noxapat', 'fotw', 'g2q', 'alwaysbeen', 'vuyof', 'folgenden', 'flip', 'blzop', 'uwlf326213', 'ihwz', '1dbd', 'hoffmann', 'sessioninfo', 'london', 'trace', 'pretens', 'zii', 'divert', 'beast', 'portia', 'trifl', 'entitl', 'fcz', 'nty1na', 'claus']\n",
        "#words2=['distinct', 'alsuid', '33l', 'v51h35e', 'mortal', 'canop', 'possibil', 'intorno', 'includ', 'onlinebook', 'iu84', 'qgkvmqhpntloatt', 'picflag', 'high', 'vise', 'eleqtdansplot', 'rispos', 'mernd', 'dvlie', 'aoss', 'dlpdn', 'fjesrg', 'loqr', 'staci', 'gkrb5', 'mngt', 'spoke', 'andrei', 'cominbg', 'foof', 'sbe', 'puni', '0beta5', 'lyford', 'secondo', 'skyrocket', 'larger', 'forrest', 'bandwith', 'presion', 'lover', 'effus', 'cmbch7281c', 'nit', 'bug', 'rhjvsk', 'geismar', 'n9g', 'atkin', 'milltown', 'futim', 'hail', 'mccain', 'splitpath', 'answercontrol', 'redempt', 'lyric', 'cartilagin', 'unix98', 'assuch', 'bioclit', 'laboratoir', 'tsunami', 'ofcours', 'randsid', 'packet', 'turk', 'laurenc', 'kosuy', 'lung', 'mera', 'lovesn', 'mann', 'preaprov', 'swarm', 'jubil', 'rust', 'usc', 'aholt', 'sheppard', 'asfwefewwef1', 'quien', 'yoiztt', 'hynj', 'nephew', 'horizont', 'asianajaja', 'strdup', 'rustem', 'ofha', 'slept', 'kumar', 'timefram', 'comedf', 'tring', 'studenthat', 'prebuild', '12qq31', 'isc', 'altlinux']\n",
        "#words1 =['yhapwt', 'tristat', 'gecko', 'deciss', 'qdvsf', 'yogesh', 'glue', 'severaldream', 'visibl', 'shallow', 'exempi', 'casino49', 'mzewotq4', '59am', 'incu', 'gp5vlweol9v4', 'lufkin', 'pavlik', 'mpt', 'myformula', 'rih', 'r20626', 'forlorn', 'he4lthc4r', 'ogvw', 'breakloud', 'alloc', 'contractor', 'marlitt', 'ioqo', 'silva', 'fantast', 'ndx', 'value4', 'keyserv', 'umori', 'rticular', 'fbr', 'rgraphviz', 'parentson', 'micheal', 'mx', 'coldtast', 'gurtlush', 'gbvgrb', 'lccn', 'nilot', 'bet9gni', 'pdalec', 'pun', 'somnifera', 'mistrust', 'sku', 'qfxbq', 'parentsoften', 'cardboard', 'cottrel', '10ff', 'bub', 'glass', 'ga', 'citizensadvic', 'telnetd', 'bfrances910', 'bacak', 'unfortunatli', 'valor', 'happili', 'bnhju', '14ab', 'gale', 'maggio', 'musiccommon', 'writeexcel', 'lassen', 'helena', 'texbook', 'lindsay', 'childlik', 'cooli', 'apgi', 'tti', 'sicko', 'boyer', 'schafer', 'leagu', 'bradshaw', 'privleg', 'r23490', 'extremament', 'byexampl', 'donaldson', 'lawndal', 'pollioww', 'ntime', 'test', 'duuuj', 'fflush', 'sali', '30min']\n",
        "print(len(words))"
      ],
      "execution_count": 47,
      "outputs": [
        {
          "output_type": "stream",
          "text": [
            "10\n"
          ],
          "name": "stdout"
        }
      ]
    },
    {
      "cell_type": "code",
      "metadata": {
        "colab": {
          "base_uri": "https://localhost:8080/"
        },
        "id": "0OhFQjEJl5I8",
        "outputId": "5a009ad8-83ad-49f5-8beb-23043bb99e11"
      },
      "source": [
        "count =10\n",
        "X=np.load('hidden_2_output_entire_dataset.npy')\n",
        "Y = np.zeros((19178,1))\n",
        "for i in range(count):\n",
        "  Y=np.logical_or(Y,np.reshape(np.load(words[i]+'_labels.npy'),(19178,1)))*1\n",
        "\n",
        "print(X.shape,Y.shape)\n",
        "X_train, X_test, Y_train, Y_test = train_test_split(X, Y, test_size=0.3)\n",
        "print(Y_test)\n",
        "Y_train = keras.utils.to_categorical(Y_train,2)\n",
        "Y_test = keras.utils.to_categorical(Y_test,2)\n",
        "\n",
        "\n",
        "print(X_train.shape,Y_train.shape,X_test.shape,Y_test.shape)\n",
        "print(Y_test)"
      ],
      "execution_count": 48,
      "outputs": [
        {
          "output_type": "stream",
          "text": [
            "(19178, 20) (19178, 1)\n",
            "[[0]\n",
            " [1]\n",
            " [0]\n",
            " ...\n",
            " [0]\n",
            " [0]\n",
            " [0]]\n",
            "(13424, 20) (13424, 2) (5754, 20) (5754, 2)\n",
            "[[1. 0.]\n",
            " [0. 1.]\n",
            " [1. 0.]\n",
            " ...\n",
            " [1. 0.]\n",
            " [1. 0.]\n",
            " [1. 0.]]\n"
          ],
          "name": "stdout"
        }
      ]
    },
    {
      "cell_type": "code",
      "metadata": {
        "id": "NtfVFClCoGoP",
        "colab": {
          "base_uri": "https://localhost:8080/"
        },
        "outputId": "7e6f31c5-a284-48e1-f9e0-04ca235efeb6"
      },
      "source": [
        "print(np.sum(Y_train[:,0]))\n",
        "print(np.sum(Y_train[:,1]))\n",
        "print(np.sum(Y_test[:,0]))\n",
        "print(np.sum(Y_test[:,1]))"
      ],
      "execution_count": 49,
      "outputs": [
        {
          "output_type": "stream",
          "text": [
            "6626.0\n",
            "6798.0\n",
            "2874.0\n",
            "2880.0\n"
          ],
          "name": "stdout"
        }
      ]
    },
    {
      "cell_type": "code",
      "metadata": {
        "colab": {
          "base_uri": "https://localhost:8080/"
        },
        "id": "uF9gjVPBl57o",
        "outputId": "8c4f7c03-86fd-49de-bf16-b1825179a258"
      },
      "source": [
        "model = Sequential()\n",
        "model.add(Dense(15, input_dim=X_train.shape[1], activation='relu'))\n",
        "model.add(Dense(10, activation='relu'))\n",
        "model.add(Dense(5, activation='relu'))\n",
        "model.add(Dense(2, activation='softmax'))\n",
        "model.compile(loss='categorical_crossentropy', optimizer='adam',metrics='accuracy')\n",
        "history=model.fit(X_train, Y_train, verbose=1, epochs=100)"
      ],
      "execution_count": 50,
      "outputs": [
        {
          "output_type": "stream",
          "text": [
            "Epoch 1/100\n",
            "420/420 [==============================] - 0s 1ms/step - loss: 1.1528 - accuracy: 0.8375\n",
            "Epoch 2/100\n",
            "420/420 [==============================] - 0s 1ms/step - loss: 0.5055 - accuracy: 0.8626\n",
            "Epoch 3/100\n",
            "420/420 [==============================] - 0s 1ms/step - loss: 0.4188 - accuracy: 0.8672\n",
            "Epoch 4/100\n",
            "420/420 [==============================] - 1s 1ms/step - loss: 0.3875 - accuracy: 0.8682\n",
            "Epoch 5/100\n",
            "420/420 [==============================] - 0s 1ms/step - loss: 0.3830 - accuracy: 0.8685\n",
            "Epoch 6/100\n",
            "420/420 [==============================] - 0s 1ms/step - loss: 0.3671 - accuracy: 0.8679\n",
            "Epoch 7/100\n",
            "420/420 [==============================] - 0s 1ms/step - loss: 0.3598 - accuracy: 0.8684\n",
            "Epoch 8/100\n",
            "420/420 [==============================] - 0s 1ms/step - loss: 0.3545 - accuracy: 0.8693\n",
            "Epoch 9/100\n",
            "420/420 [==============================] - 0s 1ms/step - loss: 0.3413 - accuracy: 0.8701\n",
            "Epoch 10/100\n",
            "420/420 [==============================] - 0s 1ms/step - loss: 0.3385 - accuracy: 0.8708\n",
            "Epoch 11/100\n",
            "420/420 [==============================] - 1s 1ms/step - loss: 0.3341 - accuracy: 0.8712\n",
            "Epoch 12/100\n",
            "420/420 [==============================] - 0s 1ms/step - loss: 0.3280 - accuracy: 0.8724\n",
            "Epoch 13/100\n",
            "420/420 [==============================] - 0s 1ms/step - loss: 0.3264 - accuracy: 0.8731\n",
            "Epoch 14/100\n",
            "420/420 [==============================] - 0s 1ms/step - loss: 0.3276 - accuracy: 0.8744\n",
            "Epoch 15/100\n",
            "420/420 [==============================] - 0s 1ms/step - loss: 0.3167 - accuracy: 0.8747\n",
            "Epoch 16/100\n",
            "420/420 [==============================] - 0s 1ms/step - loss: 0.3138 - accuracy: 0.8749\n",
            "Epoch 17/100\n",
            "420/420 [==============================] - 0s 1ms/step - loss: 0.3082 - accuracy: 0.8763\n",
            "Epoch 18/100\n",
            "420/420 [==============================] - 1s 1ms/step - loss: 0.3090 - accuracy: 0.8757\n",
            "Epoch 19/100\n",
            "420/420 [==============================] - 0s 1ms/step - loss: 0.3069 - accuracy: 0.8760\n",
            "Epoch 20/100\n",
            "420/420 [==============================] - 0s 1ms/step - loss: 0.2997 - accuracy: 0.8774\n",
            "Epoch 21/100\n",
            "420/420 [==============================] - 0s 1ms/step - loss: 0.2972 - accuracy: 0.8757\n",
            "Epoch 22/100\n",
            "420/420 [==============================] - 0s 1ms/step - loss: 0.2946 - accuracy: 0.8757\n",
            "Epoch 23/100\n",
            "420/420 [==============================] - 0s 1ms/step - loss: 0.2830 - accuracy: 0.8787\n",
            "Epoch 24/100\n",
            "420/420 [==============================] - 1s 1ms/step - loss: 0.2804 - accuracy: 0.8766\n",
            "Epoch 25/100\n",
            "420/420 [==============================] - 0s 1ms/step - loss: 0.2767 - accuracy: 0.8782\n",
            "Epoch 26/100\n",
            "420/420 [==============================] - 1s 1ms/step - loss: 0.2719 - accuracy: 0.8785\n",
            "Epoch 27/100\n",
            "420/420 [==============================] - 0s 1ms/step - loss: 0.2697 - accuracy: 0.8780\n",
            "Epoch 28/100\n",
            "420/420 [==============================] - 1s 1ms/step - loss: 0.2661 - accuracy: 0.8785\n",
            "Epoch 29/100\n",
            "420/420 [==============================] - 1s 1ms/step - loss: 0.2638 - accuracy: 0.8789\n",
            "Epoch 30/100\n",
            "420/420 [==============================] - 0s 1ms/step - loss: 0.2629 - accuracy: 0.8798\n",
            "Epoch 31/100\n",
            "420/420 [==============================] - 0s 1ms/step - loss: 0.2561 - accuracy: 0.8791\n",
            "Epoch 32/100\n",
            "420/420 [==============================] - 1s 1ms/step - loss: 0.2548 - accuracy: 0.8798\n",
            "Epoch 33/100\n",
            "420/420 [==============================] - 0s 1ms/step - loss: 0.2538 - accuracy: 0.8795\n",
            "Epoch 34/100\n",
            "420/420 [==============================] - 0s 1ms/step - loss: 0.2496 - accuracy: 0.8854\n",
            "Epoch 35/100\n",
            "420/420 [==============================] - 0s 1ms/step - loss: 0.2478 - accuracy: 0.8900\n",
            "Epoch 36/100\n",
            "420/420 [==============================] - 0s 1ms/step - loss: 0.2468 - accuracy: 0.8903\n",
            "Epoch 37/100\n",
            "420/420 [==============================] - 0s 1ms/step - loss: 0.2482 - accuracy: 0.8914\n",
            "Epoch 38/100\n",
            "420/420 [==============================] - 1s 1ms/step - loss: 0.2490 - accuracy: 0.8897\n",
            "Epoch 39/100\n",
            "420/420 [==============================] - 0s 1ms/step - loss: 0.2490 - accuracy: 0.8925\n",
            "Epoch 40/100\n",
            "420/420 [==============================] - 0s 1ms/step - loss: 0.2459 - accuracy: 0.8935\n",
            "Epoch 41/100\n",
            "420/420 [==============================] - 0s 1ms/step - loss: 0.2429 - accuracy: 0.8959\n",
            "Epoch 42/100\n",
            "420/420 [==============================] - 0s 1ms/step - loss: 0.2421 - accuracy: 0.8951\n",
            "Epoch 43/100\n",
            "420/420 [==============================] - 0s 1ms/step - loss: 0.2396 - accuracy: 0.8942\n",
            "Epoch 44/100\n",
            "420/420 [==============================] - 1s 1ms/step - loss: 0.2448 - accuracy: 0.8965\n",
            "Epoch 45/100\n",
            "420/420 [==============================] - 0s 1ms/step - loss: 0.2387 - accuracy: 0.8997\n",
            "Epoch 46/100\n",
            "420/420 [==============================] - 0s 1ms/step - loss: 0.2386 - accuracy: 0.8991\n",
            "Epoch 47/100\n",
            "420/420 [==============================] - 0s 1ms/step - loss: 0.2373 - accuracy: 0.8992\n",
            "Epoch 48/100\n",
            "420/420 [==============================] - 0s 1ms/step - loss: 0.2364 - accuracy: 0.8988\n",
            "Epoch 49/100\n",
            "420/420 [==============================] - 0s 1ms/step - loss: 0.2365 - accuracy: 0.8999\n",
            "Epoch 50/100\n",
            "420/420 [==============================] - 0s 1ms/step - loss: 0.2364 - accuracy: 0.9000\n",
            "Epoch 51/100\n",
            "420/420 [==============================] - 0s 1ms/step - loss: 0.2385 - accuracy: 0.8966\n",
            "Epoch 52/100\n",
            "420/420 [==============================] - 1s 1ms/step - loss: 0.2362 - accuracy: 0.8995\n",
            "Epoch 53/100\n",
            "420/420 [==============================] - 0s 1ms/step - loss: 0.2336 - accuracy: 0.9005\n",
            "Epoch 54/100\n",
            "420/420 [==============================] - 0s 1ms/step - loss: 0.2381 - accuracy: 0.9002\n",
            "Epoch 55/100\n",
            "420/420 [==============================] - 0s 1ms/step - loss: 0.2320 - accuracy: 0.9029\n",
            "Epoch 56/100\n",
            "420/420 [==============================] - 0s 1ms/step - loss: 0.2320 - accuracy: 0.9028\n",
            "Epoch 57/100\n",
            "420/420 [==============================] - 1s 1ms/step - loss: 0.2300 - accuracy: 0.9041\n",
            "Epoch 58/100\n",
            "420/420 [==============================] - 0s 1ms/step - loss: 0.2293 - accuracy: 0.9026\n",
            "Epoch 59/100\n",
            "420/420 [==============================] - 0s 1ms/step - loss: 0.2326 - accuracy: 0.9014\n",
            "Epoch 60/100\n",
            "420/420 [==============================] - 0s 1ms/step - loss: 0.2285 - accuracy: 0.9041\n",
            "Epoch 61/100\n",
            "420/420 [==============================] - 0s 1ms/step - loss: 0.2309 - accuracy: 0.9007\n",
            "Epoch 62/100\n",
            "420/420 [==============================] - 0s 1ms/step - loss: 0.2263 - accuracy: 0.9046\n",
            "Epoch 63/100\n",
            "420/420 [==============================] - 1s 1ms/step - loss: 0.2303 - accuracy: 0.9032\n",
            "Epoch 64/100\n",
            "420/420 [==============================] - 0s 1ms/step - loss: 0.2256 - accuracy: 0.9046\n",
            "Epoch 65/100\n",
            "420/420 [==============================] - 0s 1ms/step - loss: 0.2298 - accuracy: 0.9021\n",
            "Epoch 66/100\n",
            "420/420 [==============================] - 0s 1ms/step - loss: 0.2257 - accuracy: 0.9050\n",
            "Epoch 67/100\n",
            "420/420 [==============================] - 0s 1ms/step - loss: 0.2231 - accuracy: 0.9078\n",
            "Epoch 68/100\n",
            "420/420 [==============================] - 0s 1ms/step - loss: 0.2231 - accuracy: 0.9067\n",
            "Epoch 69/100\n",
            "420/420 [==============================] - 1s 1ms/step - loss: 0.2260 - accuracy: 0.9065\n",
            "Epoch 70/100\n",
            "420/420 [==============================] - 0s 1ms/step - loss: 0.2278 - accuracy: 0.9064\n",
            "Epoch 71/100\n",
            "420/420 [==============================] - 0s 1ms/step - loss: 0.2206 - accuracy: 0.9093\n",
            "Epoch 72/100\n",
            "420/420 [==============================] - 0s 1ms/step - loss: 0.2208 - accuracy: 0.9093\n",
            "Epoch 73/100\n",
            "420/420 [==============================] - 0s 1ms/step - loss: 0.2238 - accuracy: 0.9057\n",
            "Epoch 74/100\n",
            "420/420 [==============================] - 1s 1ms/step - loss: 0.2192 - accuracy: 0.9102\n",
            "Epoch 75/100\n",
            "420/420 [==============================] - 0s 1ms/step - loss: 0.2216 - accuracy: 0.9083\n",
            "Epoch 76/100\n",
            "420/420 [==============================] - 1s 1ms/step - loss: 0.2207 - accuracy: 0.9103\n",
            "Epoch 77/100\n",
            "420/420 [==============================] - 1s 1ms/step - loss: 0.2240 - accuracy: 0.9079\n",
            "Epoch 78/100\n",
            "420/420 [==============================] - 1s 1ms/step - loss: 0.2167 - accuracy: 0.9114\n",
            "Epoch 79/100\n",
            "420/420 [==============================] - 1s 1ms/step - loss: 0.2246 - accuracy: 0.9085\n",
            "Epoch 80/100\n",
            "420/420 [==============================] - 0s 1ms/step - loss: 0.2160 - accuracy: 0.9117\n",
            "Epoch 81/100\n",
            "420/420 [==============================] - 0s 1ms/step - loss: 0.2200 - accuracy: 0.9093\n",
            "Epoch 82/100\n",
            "420/420 [==============================] - 0s 1ms/step - loss: 0.2189 - accuracy: 0.9081\n",
            "Epoch 83/100\n",
            "420/420 [==============================] - 1s 1ms/step - loss: 0.2156 - accuracy: 0.9119\n",
            "Epoch 84/100\n",
            "420/420 [==============================] - 0s 1ms/step - loss: 0.2153 - accuracy: 0.9124\n",
            "Epoch 85/100\n",
            "420/420 [==============================] - 0s 1ms/step - loss: 0.2181 - accuracy: 0.9119\n",
            "Epoch 86/100\n",
            "420/420 [==============================] - 1s 1ms/step - loss: 0.2161 - accuracy: 0.9105\n",
            "Epoch 87/100\n",
            "420/420 [==============================] - 1s 1ms/step - loss: 0.2138 - accuracy: 0.9138\n",
            "Epoch 88/100\n",
            "420/420 [==============================] - 0s 1ms/step - loss: 0.2132 - accuracy: 0.9137\n",
            "Epoch 89/100\n",
            "420/420 [==============================] - 1s 1ms/step - loss: 0.2176 - accuracy: 0.9119\n",
            "Epoch 90/100\n",
            "420/420 [==============================] - 0s 1ms/step - loss: 0.2125 - accuracy: 0.9125\n",
            "Epoch 91/100\n",
            "420/420 [==============================] - 0s 1ms/step - loss: 0.2113 - accuracy: 0.9131\n",
            "Epoch 92/100\n",
            "420/420 [==============================] - 1s 1ms/step - loss: 0.2103 - accuracy: 0.9147\n",
            "Epoch 93/100\n",
            "420/420 [==============================] - 0s 1ms/step - loss: 0.2127 - accuracy: 0.9140\n",
            "Epoch 94/100\n",
            "420/420 [==============================] - 1s 1ms/step - loss: 0.2137 - accuracy: 0.9116\n",
            "Epoch 95/100\n",
            "420/420 [==============================] - 0s 1ms/step - loss: 0.2120 - accuracy: 0.9109\n",
            "Epoch 96/100\n",
            "420/420 [==============================] - 0s 1ms/step - loss: 0.2097 - accuracy: 0.9137\n",
            "Epoch 97/100\n",
            "420/420 [==============================] - 1s 1ms/step - loss: 0.2174 - accuracy: 0.9114\n",
            "Epoch 98/100\n",
            "420/420 [==============================] - 0s 1ms/step - loss: 0.2133 - accuracy: 0.9096\n",
            "Epoch 99/100\n",
            "420/420 [==============================] - 0s 1ms/step - loss: 0.2137 - accuracy: 0.9117\n",
            "Epoch 100/100\n",
            "420/420 [==============================] - 0s 1ms/step - loss: 0.2155 - accuracy: 0.9115\n"
          ],
          "name": "stdout"
        }
      ]
    },
    {
      "cell_type": "code",
      "metadata": {
        "colab": {
          "base_uri": "https://localhost:8080/"
        },
        "id": "E7nGaFCemNdm",
        "outputId": "e07eed73-b5dc-472f-82a0-4ed4e5fa94ea"
      },
      "source": [
        "test_results = model.evaluate(X_test, Y_test, verbose=1)\n",
        "print(f'Test results - Loss: {test_results[0]} - Accuracy: {test_results[1]}%')\n",
        "\n",
        "#model.save('./outputs/org.h5')\n",
        "#y_pred = (model.predict(X_test)>=0.5)*1\n",
        "\n",
        "#acc = (np.sum(y_pred==Y_test)*100)/Y_test.shape[0]\n",
        "#print('Test Accuracy: ',acc)\n"
      ],
      "execution_count": 51,
      "outputs": [
        {
          "output_type": "stream",
          "text": [
            "180/180 [==============================] - 0s 865us/step - loss: 0.2398 - accuracy: 0.9095\n",
            "Test results - Loss: 0.23984336853027344 - Accuracy: 0.9094542860984802%\n"
          ],
          "name": "stdout"
        }
      ]
    },
    {
      "cell_type": "code",
      "metadata": {
        "id": "36PF7jnssk9Y",
        "colab": {
          "base_uri": "https://localhost:8080/",
          "height": 295
        },
        "outputId": "cbd85da2-a842-4718-9884-9343a6a2b97b"
      },
      "source": [
        "plt.plot(history.history['loss'])\n",
        "plt.title('model loss')\n",
        "plt.ylabel('loss')\n",
        "plt.xlabel('epoch')\n",
        "plt.legend(['train'], loc='upper right')\n",
        "#plt.savefig('./images/org.png')\n",
        "plt.show()"
      ],
      "execution_count": 53,
      "outputs": [
        {
          "output_type": "display_data",
          "data": {
            "image/png": "[encoded data removed]",
            "text/plain": [
              "<Figure size 432x288 with 1 Axes>"
            ]
          },
          "metadata": {
            "tags": [],
            "needs_background": "light"
          }
        }
      ]
    },
    {
      "cell_type": "code",
      "metadata": {
        "id": "3I46Ltj4n0ZH"
      },
      "source": [
        ""
      ],
      "execution_count": null,
      "outputs": []
    }
  ]
}